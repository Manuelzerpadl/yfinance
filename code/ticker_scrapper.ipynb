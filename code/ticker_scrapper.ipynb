{
 "cells": [
  {
   "cell_type": "code",
   "execution_count": 9,
   "metadata": {},
   "outputs": [
    {
     "name": "stdout",
     "output_type": "stream",
     "text": [
      "                                      Texto del enlace\n",
      "0                                                  MMM\n",
      "1                                                  AOS\n",
      "2                                                  ABT\n",
      "3                                                 ABBV\n",
      "4                                                  ACN\n",
      "..                                                 ...\n",
      "766                          \"Yahoo! Added To S&P 500\"\n",
      "767  \"STANDARD & POOR'S ANNOUNCES CHANGES IN S&P IN...\n",
      "768          \"Net Firms Too New for S&P's List Update\"\n",
      "769                           \"S.& P. 500 Replacement\"\n",
      "770            Standard & Poor's page on S&P 500 index\n",
      "\n",
      "[771 rows x 1 columns]\n"
     ]
    }
   ],
   "source": [
    "import requests\n",
    "from bs4 import BeautifulSoup\n",
    "import pandas as pd\n",
    "\n",
    "# URL del sitio web\n",
    "url = \"https://en.wikipedia.org/wiki/List_of_S%26P_500_companies\"\n",
    "\n",
    "# Realizar la solicitud HTTP GET\n",
    "response = requests.get(url)\n",
    "\n",
    "# Verificar si la solicitud fue exitosa (código de estado 200)\n",
    "if response.status_code == 200:\n",
    "    # Parsear el HTML\n",
    "    soup = BeautifulSoup(response.text, 'html.parser')\n",
    "    # Encontrar todas las etiquetas <a> con la clase 'external text'\n",
    "    links = soup.find_all('a', class_='external text')\n",
    "    \n",
    "    # Lista para almacenar el texto de los enlaces\n",
    "    link_texts = []\n",
    "    for link in links:\n",
    "        link_texts.append(link.text)\n",
    "    \n",
    "    # Crear un DataFrame con la información scrapeada\n",
    "    df = pd.DataFrame({'Texto del enlace': link_texts})\n",
    "    \n",
    "    # Mostrar el DataFrame\n",
    "    print(df)\n",
    "else:\n",
    "    print(\"La solicitud no fue exitosa. Código de estado:\", response.status_code)\n",
    "\n",
    "\n",
    "# Eliminar filas después de la fila 500\n",
    "df = df.drop(df.index[500:])\n",
    "# Cambiar el nombre de la columna\n",
    "df = df.rename(columns={'Texto del enlace': 'symbol'})\n",
    "df.to_csv(r\"C:\\Users\\manue\\Desktop\\data_eng\\alpha_vantage\\symbol_name\\symbol_name.csv\")"
   ]
  }
 ],
 "metadata": {
  "kernelspec": {
   "display_name": "data_eng",
   "language": "python",
   "name": "python3"
  },
  "language_info": {
   "codemirror_mode": {
    "name": "ipython",
    "version": 3
   },
   "file_extension": ".py",
   "mimetype": "text/x-python",
   "name": "python",
   "nbconvert_exporter": "python",
   "pygments_lexer": "ipython3",
   "version": "3.11.3"
  }
 },
 "nbformat": 4,
 "nbformat_minor": 2
}
