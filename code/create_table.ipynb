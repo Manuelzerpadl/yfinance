{
 "cells": [
  {
   "cell_type": "code",
   "execution_count": 1,
   "metadata": {},
   "outputs": [],
   "source": [
    "import psycopg2\n",
    "from psycopg2 import sql"
   ]
  },
  {
   "cell_type": "code",
   "execution_count": 2,
   "metadata": {},
   "outputs": [
    {
     "name": "stdout",
     "output_type": "stream",
     "text": [
      "Conexión exitosa a la base de datos\n"
     ]
    }
   ],
   "source": [
    "# Datos de conexión a la base de datos\n",
    "dbname = 'yfinance'\n",
    "user = 'postgres'\n",
    "password = 'mjose2002'\n",
    "host = 'localhost'  # O el host donde se encuentra tu base de datos\n",
    "port = '5432'       # El puerto por defecto de PostgreSQL\n",
    "\n",
    "# Conexión a la base de datos\n",
    "try:\n",
    "    conn = psycopg2.connect(\n",
    "        dbname=dbname,\n",
    "        user=user,\n",
    "        password=password,\n",
    "        host=host,\n",
    "        port=port\n",
    "    )\n",
    "    print(\"Conexión exitosa a la base de datos\")\n",
    "except psycopg2.Error as e:\n",
    "    print(\"Error al conectarse a la base de datos:\", e)\n",
    "    exit()\n"
   ]
  },
  {
   "cell_type": "markdown",
   "metadata": {},
   "source": [
    "## Create 1st Table "
   ]
  },
  {
   "cell_type": "code",
   "execution_count": null,
   "metadata": {},
   "outputs": [],
   "source": [
    "# Crear un cursor para ejecutar comandos SQL\n",
    "cur = conn.cursor()\n",
    "\n",
    "# Comando SQL para crear la tabla\n",
    "create_table_query = '''\n",
    "CREATE TABLE IF NOT EXISTS stock_data (\n",
    "    id SERIAL PRIMARY KEY,\n",
    "    open NUMERIC,\n",
    "    high NUMERIC,\n",
    "    low NUMERIC,\n",
    "    close NUMERIC,\n",
    "    adj_close NUMERIC,\n",
    "    volume NUMERIC,\n",
    "    ticker VARCHAR(50),\n",
    "    date_time TIMESTAMP\n",
    ")\n",
    "'''\n",
    "\n",
    "# Ejecutar el comando SQL\n",
    "cur.execute(create_table_query)\n",
    "\n",
    "# Confirmar la ejecución de la transacción\n",
    "conn.commit()\n",
    "\n",
    "# Cerrar el cursor y la conexión\n",
    "cur.close()\n",
    "conn.close()"
   ]
  },
  {
   "cell_type": "code",
   "execution_count": null,
   "metadata": {},
   "outputs": [],
   "source": []
  }
 ],
 "metadata": {
  "kernelspec": {
   "display_name": "data_eng",
   "language": "python",
   "name": "python3"
  },
  "language_info": {
   "codemirror_mode": {
    "name": "ipython",
    "version": 3
   },
   "file_extension": ".py",
   "mimetype": "text/x-python",
   "name": "python",
   "nbconvert_exporter": "python",
   "pygments_lexer": "ipython3",
   "version": "3.11.3"
  }
 },
 "nbformat": 4,
 "nbformat_minor": 2
}
